{
 "cells": [
  {
   "cell_type": "code",
   "execution_count": 5,
   "metadata": {},
   "outputs": [],
   "source": [
    "import pandas as pd\n",
    "from sklearn.model_selection import train_test_split\n"
   ]
  },
  {
   "cell_type": "code",
   "execution_count": 2,
   "metadata": {},
   "outputs": [],
   "source": [
    "df = pd.read_csv(r'C:\\userspace\\daya\\python\\samu_proj\\scaler_data.csv')\n"
   ]
  },
  {
   "cell_type": "code",
   "execution_count": 3,
   "metadata": {},
   "outputs": [],
   "source": [
    "# Drop the 'PCOS (Y/N)' column from the DataFrame to create features (X)\n",
    "X = df.drop(columns=['PCOS (Y/N)'])\n",
    "\n",
    "# Extract the 'PCOS (Y/N)' column as the target (y)\n",
    "y = df['PCOS (Y/N)']\n"
   ]
  },
  {
   "cell_type": "code",
   "execution_count": 6,
   "metadata": {},
   "outputs": [],
   "source": [
    "X_train, X_test, y_train, y_test = train_test_split(X, y, test_size=0.2, random_state=42)\n"
   ]
  },
  {
   "cell_type": "code",
   "execution_count": 7,
   "metadata": {},
   "outputs": [
    {
     "name": "stdout",
     "output_type": "stream",
     "text": [
      "Data type of y_train: float64\n",
      "Data type of y_test: float64\n"
     ]
    }
   ],
   "source": [
    "print(\"Data type of y_train:\", y_train.dtype)\n",
    "print(\"Data type of y_test:\", y_test.dtype)\n"
   ]
  },
  {
   "cell_type": "code",
   "execution_count": 8,
   "metadata": {},
   "outputs": [
    {
     "name": "stdout",
     "output_type": "stream",
     "text": [
      "Unique values of y_train: [ 1.43404922 -0.69732613]\n",
      "Unique values of y_test: [-0.69732613  1.43404922]\n"
     ]
    }
   ],
   "source": [
    "print(\"Unique values of y_train:\", y_train.unique())\n",
    "print(\"Unique values of y_test:\", y_test.unique())\n"
   ]
  },
  {
   "cell_type": "code",
   "execution_count": null,
   "metadata": {},
   "outputs": [],
   "source": []
  }
 ],
 "metadata": {
  "kernelspec": {
   "display_name": "base",
   "language": "python",
   "name": "python3"
  },
  "language_info": {
   "codemirror_mode": {
    "name": "ipython",
    "version": 3
   },
   "file_extension": ".py",
   "mimetype": "text/x-python",
   "name": "python",
   "nbconvert_exporter": "python",
   "pygments_lexer": "ipython3",
   "version": "3.10.9"
  }
 },
 "nbformat": 4,
 "nbformat_minor": 2
}
